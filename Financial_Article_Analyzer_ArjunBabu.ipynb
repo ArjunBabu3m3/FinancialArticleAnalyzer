{
  "nbformat": 4,
  "nbformat_minor": 0,
  "metadata": {
    "kernelspec": {
      "display_name": "Python 3",
      "language": "python",
      "name": "python3"
    },
    "language_info": {
      "codemirror_mode": {
        "name": "ipython",
        "version": 3
      },
      "file_extension": ".py",
      "mimetype": "text/x-python",
      "name": "python",
      "nbconvert_exporter": "python",
      "pygments_lexer": "ipython3",
      "version": "3.7.4"
    },
    "colab": {
      "name": "Financial_Article_Analyzer_ArjunBabu.ipynb",
      "provenance": [],
      "include_colab_link": true
    }
  },
  "cells": [
    {
      "cell_type": "markdown",
      "metadata": {
        "id": "view-in-github",
        "colab_type": "text"
      },
      "source": [
        "<a href=\"https://colab.research.google.com/github/ArjunBabu3m3/FinancialArticleAnalyzer/blob/master/Financial_Article_Analyzer_ArjunBabu.ipynb\" target=\"_parent\"><img src=\"https://colab.research.google.com/assets/colab-badge.svg\" alt=\"Open In Colab\"/></a>"
      ]
    },
    {
      "cell_type": "code",
      "metadata": {
        "id": "UcaRVWJSI798",
        "colab_type": "code",
        "colab": {},
        "outputId": "41038787-eb6a-429a-82cb-97cbba0df272"
      },
      "source": [
        "#pip install vaderSentiment\n",
        "#Tkinter User Interface \n",
        "\n",
        "import tkinter as tk\n",
        "\n",
        "from vaderSentiment.vaderSentiment import SentimentIntensityAnalyzer\n",
        "#import argparse\n",
        "\n",
        "# Create a SentimentIntensityAnalyzer object. \n",
        "sid_obj = SentimentIntensityAnalyzer()\n",
        "\n",
        "window = tk.Tk()\n",
        "window.title(\"Financial Article Analyzer\")\n",
        "\n",
        "greeting = tk.Label(text=\"Paste the Article below:\",foreground=\"blue\",background=\"orange\",width=100,height=2)\n",
        "greeting.pack(fill=tk.X)\n",
        "\n",
        "entry = tk.Entry(fg=\"black\", bg=\"white\", width=50)\n",
        "entry.pack()\n",
        "entry.get()\n",
        "\n",
        "class master: \n",
        "    \n",
        "    def __init__(self,link):\n",
        "        self.link=link\n",
        "        self.read_book()\n",
        "        self.sentiment_scores()\n",
        "    def read_book(self):  #read a book and return it as a string \n",
        "        with open(self.link, \"r\", encoding =\"latin-1\") as current_file: \n",
        "            text = current_file.read() \n",
        "            self.text = text.replace(\"\\n\", \"\").replace(\"\\r\", \"\") \n",
        "        return self.text \n",
        "    \n",
        "    def sentiment_scores(self): \n",
        "\n",
        "        # polarity_scores method of SentimentIntensityAnalyzer \n",
        "        # object gives a sentiment dictionary. \n",
        "        # which contains pos, neg, neu, and compound scores. \n",
        "        sentiment_dict = sid_obj.polarity_scores(self.text) \n",
        "          \n",
        "        c1=\"Overall sentiment of \"+str(self.link[22:]) + str(sentiment_dict) \n",
        "        c2=\"sentence was rated as \"+ str(round(sentiment_dict['neg']*100,2)) + \"% Negative\"\n",
        "        c3=\"sentence was rated as \"+ str(round(sentiment_dict['neu']*100,2)) + \"% Neutral\" \n",
        "        c4=\"sentence was rated as \"+ str(round(sentiment_dict['pos']*100,2)) + \"% Positive\"\n",
        "\n",
        "        c5=\"Sentence Overall Rated As\" \n",
        "        \n",
        "        c6=c1+\"\\n\"+c2+\"\\n\"+c3+\"\\n\"+c4+\"\\n\"+\"\\n\"+c5+\"\\n\"\n",
        "        # decide sentiment as positive, negative and neutral \n",
        "        if sentiment_dict['compound'] >= 0.05 : \n",
        "            c7=c6+\" Positive\" \n",
        "\n",
        "        elif sentiment_dict['compound'] <= - 0.05 : \n",
        "            c7=c6+\" Negative\" \n",
        "\n",
        "        else : \n",
        "            c7=c6+\" Neutral\" \n",
        "        print(c7)  \n",
        "        outpt=tk.Label(text=c7,foreground=\"blue\",background=\"orange\",width=100,height=7)\n",
        "        outpt.pack(fill=tk.BOTH, side=tk.LEFT, expand=True)\n",
        "        return c7\n",
        "\n",
        "def run_master(): \n",
        "    master(entry.get())\n",
        "    \n",
        "#Button for Analyzing the File\n",
        "button = tk.Button(text=\"Analyze\", width=6, height=1,bg=\"orange\",fg=\"Orange\",command=run_master)\n",
        "button.pack()\n",
        "\n",
        "window.mainloop( )\n",
        "\n"
      ],
      "execution_count": null,
      "outputs": [
        {
          "output_type": "stream",
          "text": [
            "Overall sentiment of Kodakstock_article.txt{'neg': 0.037, 'neu': 0.879, 'pos': 0.084, 'compound': 0.9899}\n",
            "sentence was rated as 3.7% Negative\n",
            "sentence was rated as 87.9% Neutral\n",
            "sentence was rated as 8.4% Positive\n",
            "\n",
            "Sentence Overall Rated As\n",
            " Positive\n"
          ],
          "name": "stdout"
        }
      ]
    }
  ]
}